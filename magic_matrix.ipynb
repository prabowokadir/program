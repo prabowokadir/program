{
 "cells": [
  {
   "cell_type": "code",
   "execution_count": 1,
   "metadata": {},
   "outputs": [],
   "source": [
    "import numpy as np"
   ]
  },
  {
   "cell_type": "code",
   "execution_count": 2,
   "metadata": {},
   "outputs": [],
   "source": [
    "def matriks_ajaib(list_input):\n",
    "    A=np.zeros((len(list_input), len(list_input)), dtype=int)\n",
    "    \n",
    "    for i in range(len(list_input)):\n",
    "        for j in range(len(list_input)):\n",
    "            if i<j:\n",
    "                A[i][j]=list_input[i]-list_input[j]\n",
    "            elif i>j:\n",
    "                A[i][j]=list_input[i]+list_input[j]\n",
    "            else:\n",
    "                continue\n",
    "    \n",
    "    for i in range(len(list_input)):\n",
    "        for j in range(len(list_input)):\n",
    "            if i==j:\n",
    "                sub_A = np.delete(np.delete(A, i, 0), j, 1)\n",
    "                np.fill_diagonal(sub_A, 1)\n",
    "                A[i][j] = np.linalg.det(sub_A)\n",
    "            else:\n",
    "                continue\n",
    "    \n",
    "    return A"
   ]
  },
  {
   "cell_type": "code",
   "execution_count": 3,
   "metadata": {},
   "outputs": [
    {
     "data": {
      "text/plain": [
       "array([[-168557,      -1,      -2,      -3,      -4,      -5],\n",
       "       [     11, -190639,      -1,      -2,      -3,      -4],\n",
       "       [     12,      13, -155383,      -1,      -2,      -3],\n",
       "       [     13,      14,      15, -134432,      -1,      -2],\n",
       "       [     14,      15,      16,      17, -119389,      -1],\n",
       "       [     15,      16,      17,      18,      19,  -91510]])"
      ]
     },
     "execution_count": 3,
     "metadata": {},
     "output_type": "execute_result"
    }
   ],
   "source": [
    "matriks_ajaib([5,6,7,8,9,10])"
   ]
  },
  {
   "cell_type": "code",
   "execution_count": null,
   "metadata": {},
   "outputs": [],
   "source": []
  }
 ],
 "metadata": {
  "kernelspec": {
   "display_name": "Python 3",
   "language": "python",
   "name": "python3"
  },
  "language_info": {
   "codemirror_mode": {
    "name": "ipython",
    "version": 3
   },
   "file_extension": ".py",
   "mimetype": "text/x-python",
   "name": "python",
   "nbconvert_exporter": "python",
   "pygments_lexer": "ipython3",
   "version": "3.8.3"
  }
 },
 "nbformat": 4,
 "nbformat_minor": 4
}
