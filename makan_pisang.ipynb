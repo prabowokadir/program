{
 "cells": [
  {
   "cell_type": "markdown",
   "metadata": {},
   "source": [
    "Program ini akan menjalankan probabilitas dari seseorang untuk memakan sejumlah pisang dalam jangka waktu tertentu."
   ]
  },
  {
   "cell_type": "code",
   "execution_count": 1,
   "metadata": {},
   "outputs": [],
   "source": [
    "from random import randint"
   ]
  },
  {
   "cell_type": "code",
   "execution_count": 2,
   "metadata": {},
   "outputs": [],
   "source": [
    "def makan_pisang(n, m, opsi):\n",
    "    hari=[]\n",
    "    pisang=[]\n",
    "    total_hari = 0\n",
    "    if opsi==2:\n",
    "        for i in range(m):\n",
    "            hari.append(1)\n",
    "            pisang.append(n)\n",
    "            print(f'Percobaan {i+1}:')\n",
    "            print('-'*13)\n",
    "            while pisang[i]!=0:\n",
    "                if randint(1,2)==1:\n",
    "                    print(f'Hari {hari[i]} : Makan 1 pisang')\n",
    "                    hari[i]+=1\n",
    "                    pisang[i]-=1\n",
    "                else:\n",
    "                    if pisang[i]%2==0:\n",
    "                        print(f'Hari {hari[i]} : Makan {int(pisang[i]/4)} pisang')\n",
    "                        hari[i]+=1\n",
    "                        pisang[i] = pisang[i]-int(pisang[i]/4)\n",
    "                    else:\n",
    "                        print(f'Hari {hari[i]} : Makan {int(pisang[i]/5)+1} pisang')\n",
    "                        hari[i]+=1\n",
    "                        pisang[i] = pisang[i]-(int(pisang[i]/5)+1)\n",
    "            total_hari+=(hari[i]-1)\n",
    "        print(f'Rata-rata hari: {(total_hari)/m} hari')\n",
    "    else:\n",
    "        for i in range(m):\n",
    "            hari.append(1)\n",
    "            pisang.append(n)\n",
    "            while pisang[i]!=0:\n",
    "                if randint(1,2)==1:\n",
    "                    hari[i]+=1\n",
    "                    pisang[i]-=1\n",
    "                else:\n",
    "                    if pisang[i]%2==0:\n",
    "                        hari[i]+=1\n",
    "                        pisang[i] = pisang[i]-int(pisang[i]/4)\n",
    "                    else:\n",
    "                        hari[i]+=1\n",
    "                        pisang[i] = pisang[i]-(int(pisang[i]/5)+1)\n",
    "            total_hari+=(hari[i]-1)\n",
    "        print(f'Rata-rata hari: {(total_hari)/m} hari')"
   ]
  },
  {
   "cell_type": "code",
   "execution_count": 3,
   "metadata": {},
   "outputs": [
    {
     "name": "stdout",
     "output_type": "stream",
     "text": [
      "Percobaan 1:\n",
      "-------------\n",
      "Hari 1 : Makan 1 pisang\n",
      "Hari 2 : Makan 1 pisang\n",
      "Hari 3 : Makan 4 pisang\n",
      "Hari 4 : Makan 3 pisang\n",
      "Hari 5 : Makan 3 pisang\n",
      "Hari 6 : Makan 1 pisang\n",
      "Hari 7 : Makan 2 pisang\n",
      "Hari 8 : Makan 2 pisang\n",
      "Hari 9 : Makan 1 pisang\n",
      "Hari 10 : Makan 0 pisang\n",
      "Hari 11 : Makan 1 pisang\n",
      "Hari 12 : Makan 1 pisang\n",
      "Percobaan 2:\n",
      "-------------\n",
      "Hari 1 : Makan 1 pisang\n",
      "Hari 2 : Makan 4 pisang\n",
      "Hari 3 : Makan 4 pisang\n",
      "Hari 4 : Makan 1 pisang\n",
      "Hari 5 : Makan 2 pisang\n",
      "Hari 6 : Makan 2 pisang\n",
      "Hari 7 : Makan 1 pisang\n",
      "Hari 8 : Makan 1 pisang\n",
      "Hari 9 : Makan 1 pisang\n",
      "Hari 10 : Makan 1 pisang\n",
      "Hari 11 : Makan 0 pisang\n",
      "Hari 12 : Makan 1 pisang\n",
      "Hari 13 : Makan 1 pisang\n",
      "Rata-rata hari: 12.5 hari\n"
     ]
    }
   ],
   "source": [
    "makan_pisang(20, 2, 2)"
   ]
  },
  {
   "cell_type": "code",
   "execution_count": null,
   "metadata": {},
   "outputs": [],
   "source": []
  }
 ],
 "metadata": {
  "kernelspec": {
   "display_name": "Python 3",
   "language": "python",
   "name": "python3"
  },
  "language_info": {
   "codemirror_mode": {
    "name": "ipython",
    "version": 3
   },
   "file_extension": ".py",
   "mimetype": "text/x-python",
   "name": "python",
   "nbconvert_exporter": "python",
   "pygments_lexer": "ipython3",
   "version": "3.8.3"
  }
 },
 "nbformat": 4,
 "nbformat_minor": 4
}
