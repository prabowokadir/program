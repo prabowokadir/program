{
 "cells": [
  {
   "cell_type": "markdown",
   "metadata": {},
   "source": [
    "Dengan memasukkan jumlah digit di awal, program ini akan memberikan _random value_. Dari nilai tersebut user akan coba untuk menebak _random value_ tersebut dengan menampilkan informasi seperti jumlah angka yang benar dan posisi angka yang benar."
   ]
  },
  {
   "cell_type": "code",
   "execution_count": 1,
   "metadata": {},
   "outputs": [],
   "source": [
    "from random import randint"
   ]
  },
  {
   "cell_type": "code",
   "execution_count": 2,
   "metadata": {},
   "outputs": [
    {
     "name": "stdout",
     "output_type": "stream",
     "text": [
      "Masukkan jumlah digit : 3\n",
      "Masukkan 3 digit angka : 123\n",
      "2 angka benar, 0 angka di posisi yang benar\n",
      "Masukkan 3 digit angka : 234\n",
      "1 angka benar, 1 angka di posisi yang benar\n",
      "Masukkan 3 digit angka : 124\n",
      "2 angka benar, 0 angka di posisi yang benar\n",
      "Masukkan 3 digit angka : 125\n",
      "2 angka benar, 0 angka di posisi yang benar\n",
      "Masukkan 3 digit angka : 126\n",
      "2 angka benar, 0 angka di posisi yang benar\n",
      "Masukkan 3 digit angka : 127\n",
      "3 angka benar, 0 angka di posisi yang benar\n",
      "Masukkan 3 digit angka : 712\n",
      "3 angka benar, 0 angka di posisi yang benar\n",
      "Masukkan 3 digit angka : 217\n",
      "3 angka benar, 1 angka di posisi yang benar\n",
      "Masukkan 3 digit angka : 271\n",
      "Selamat tebakan Anda benar!\n"
     ]
    }
   ],
   "source": [
    "n = int(input('Masukkan jumlah digit : '))\n",
    "random_value = str(randint(10**(n-1), (10**n)-1))\n",
    "\n",
    "def misteri():\n",
    "    tebak = input(f'Masukkan {n} digit angka : ')\n",
    "    var_1 = 0\n",
    "    var_2 = 0\n",
    "    for i in range(n):\n",
    "        # Conditional for number's position\n",
    "        if tebak[i]==random_value[i]:\n",
    "            var_1+=1\n",
    "        else:\n",
    "            continue\n",
    "    for i in range(n):\n",
    "        for j in range(n):\n",
    "            # Conditional for number's value\n",
    "            if random_value[i]==tebak[j]:\n",
    "                var_2+=1\n",
    "            else:\n",
    "                continue\n",
    "    if tebak!=random_value:\n",
    "        print(f'{var_2} angka benar, {var_1} angka di posisi yang benar')\n",
    "        misteri()\n",
    "    else:\n",
    "        print('Selamat tebakan Anda benar!')\n",
    "        \n",
    "misteri()"
   ]
  },
  {
   "cell_type": "code",
   "execution_count": null,
   "metadata": {},
   "outputs": [],
   "source": []
  }
 ],
 "metadata": {
  "kernelspec": {
   "display_name": "Python 3",
   "language": "python",
   "name": "python3"
  },
  "language_info": {
   "codemirror_mode": {
    "name": "ipython",
    "version": 3
   },
   "file_extension": ".py",
   "mimetype": "text/x-python",
   "name": "python",
   "nbconvert_exporter": "python",
   "pygments_lexer": "ipython3",
   "version": "3.8.3"
  }
 },
 "nbformat": 4,
 "nbformat_minor": 4
}
